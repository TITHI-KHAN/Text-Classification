{
  "cells": [
    {
      "cell_type": "markdown",
      "metadata": {
        "id": "SY1VGjEfNlxo"
      },
      "source": [
        "**Step 1: Load and Preprocess the Data**"
      ]
    },
    {
      "cell_type": "code",
      "execution_count": null,
      "metadata": {
        "colab": {
          "base_uri": "https://localhost:8080/"
        },
        "id": "Dv5-3DKjNl20",
        "outputId": "6d542699-eac2-4580-cf0f-f39a7a8b1876"
      },
      "outputs": [
        {
          "name": "stdout",
          "output_type": "stream",
          "text": [
            "<class 'pandas.core.frame.DataFrame'>\n",
            "RangeIndex: 50425 entries, 0 to 50424\n",
            "Data columns (total 2 columns):\n",
            " #   Column     Non-Null Count  Dtype \n",
            "---  ------     --------------  ----- \n",
            " 0   class      50425 non-null  object\n",
            " 1   datapoint  50424 non-null  object\n",
            "dtypes: object(2)\n",
            "memory usage: 788.0+ KB\n",
            "None\n"
          ]
        }
      ],
      "source": [
        "import pandas as pd\n",
        "import re\n",
        "import string\n",
        "from nltk.corpus import stopwords\n",
        "from nltk.tokenize import word_tokenize\n",
        "from nltk.stem import PorterStemmer\n",
        "from sklearn.feature_extraction.text import TfidfVectorizer\n",
        "from sklearn.model_selection import train_test_split\n",
        "from sklearn.metrics import accuracy_score, classification_report\n",
        "from sklearn.linear_model import LogisticRegression\n",
        "from sklearn.svm import SVC\n",
        "from sklearn.neighbors import KNeighborsClassifier\n",
        "from sklearn.ensemble import AdaBoostClassifier, RandomForestClassifier, GradientBoostingClassifier\n",
        "from sklearn.tree import DecisionTreeClassifier\n",
        "import xgboost as xgb\n",
        "from keras.models import Sequential\n",
        "from keras.layers import Dense\n",
        "import numpy as np\n",
        "import warnings as wr\n",
        "wr.filterwarnings('ignore')\n",
        "\n",
        "# Load the dataset with column names\n",
        "column_names = [\"class\", \"datapoint\"]\n",
        "data = pd.read_csv('ecommerceDataset.csv', header=None, names=column_names)\n",
        "\n",
        "# Display basic information about the dataset\n",
        "print(data.info())\n"
      ]
    },
    {
      "cell_type": "code",
      "execution_count": null,
      "metadata": {
        "colab": {
          "base_uri": "https://localhost:8080/",
          "height": 206
        },
        "id": "mdeVdxBaPY58",
        "outputId": "f2946363-3a99-4472-f8c2-95e666af928a"
      },
      "outputs": [
        {
          "data": {
            "text/html": [
              "\n",
              "  <div id=\"df-0cb3447e-f52b-448a-95c4-f0e897fed7f8\" class=\"colab-df-container\">\n",
              "    <div>\n",
              "<style scoped>\n",
              "    .dataframe tbody tr th:only-of-type {\n",
              "        vertical-align: middle;\n",
              "    }\n",
              "\n",
              "    .dataframe tbody tr th {\n",
              "        vertical-align: top;\n",
              "    }\n",
              "\n",
              "    .dataframe thead th {\n",
              "        text-align: right;\n",
              "    }\n",
              "</style>\n",
              "<table border=\"1\" class=\"dataframe\">\n",
              "  <thead>\n",
              "    <tr style=\"text-align: right;\">\n",
              "      <th></th>\n",
              "      <th>class</th>\n",
              "      <th>datapoint</th>\n",
              "    </tr>\n",
              "  </thead>\n",
              "  <tbody>\n",
              "    <tr>\n",
              "      <th>0</th>\n",
              "      <td>Household</td>\n",
              "      <td>Paper Plane Design Framed Wall Hanging Motivat...</td>\n",
              "    </tr>\n",
              "    <tr>\n",
              "      <th>1</th>\n",
              "      <td>Household</td>\n",
              "      <td>SAF 'Floral' Framed Painting (Wood, 30 inch x ...</td>\n",
              "    </tr>\n",
              "    <tr>\n",
              "      <th>2</th>\n",
              "      <td>Household</td>\n",
              "      <td>SAF 'UV Textured Modern Art Print Framed' Pain...</td>\n",
              "    </tr>\n",
              "    <tr>\n",
              "      <th>3</th>\n",
              "      <td>Household</td>\n",
              "      <td>SAF Flower Print Framed Painting (Synthetic, 1...</td>\n",
              "    </tr>\n",
              "    <tr>\n",
              "      <th>4</th>\n",
              "      <td>Household</td>\n",
              "      <td>Incredible Gifts India Wooden Happy Birthday U...</td>\n",
              "    </tr>\n",
              "  </tbody>\n",
              "</table>\n",
              "</div>\n",
              "    <div class=\"colab-df-buttons\">\n",
              "\n",
              "  <div class=\"colab-df-container\">\n",
              "    <button class=\"colab-df-convert\" onclick=\"convertToInteractive('df-0cb3447e-f52b-448a-95c4-f0e897fed7f8')\"\n",
              "            title=\"Convert this dataframe to an interactive table.\"\n",
              "            style=\"display:none;\">\n",
              "\n",
              "  <svg xmlns=\"http://www.w3.org/2000/svg\" height=\"24px\" viewBox=\"0 -960 960 960\">\n",
              "    <path d=\"M120-120v-720h720v720H120Zm60-500h600v-160H180v160Zm220 220h160v-160H400v160Zm0 220h160v-160H400v160ZM180-400h160v-160H180v160Zm440 0h160v-160H620v160ZM180-180h160v-160H180v160Zm440 0h160v-160H620v160Z\"/>\n",
              "  </svg>\n",
              "    </button>\n",
              "\n",
              "  <style>\n",
              "    .colab-df-container {\n",
              "      display:flex;\n",
              "      gap: 12px;\n",
              "    }\n",
              "\n",
              "    .colab-df-convert {\n",
              "      background-color: #E8F0FE;\n",
              "      border: none;\n",
              "      border-radius: 50%;\n",
              "      cursor: pointer;\n",
              "      display: none;\n",
              "      fill: #1967D2;\n",
              "      height: 32px;\n",
              "      padding: 0 0 0 0;\n",
              "      width: 32px;\n",
              "    }\n",
              "\n",
              "    .colab-df-convert:hover {\n",
              "      background-color: #E2EBFA;\n",
              "      box-shadow: 0px 1px 2px rgba(60, 64, 67, 0.3), 0px 1px 3px 1px rgba(60, 64, 67, 0.15);\n",
              "      fill: #174EA6;\n",
              "    }\n",
              "\n",
              "    .colab-df-buttons div {\n",
              "      margin-bottom: 4px;\n",
              "    }\n",
              "\n",
              "    [theme=dark] .colab-df-convert {\n",
              "      background-color: #3B4455;\n",
              "      fill: #D2E3FC;\n",
              "    }\n",
              "\n",
              "    [theme=dark] .colab-df-convert:hover {\n",
              "      background-color: #434B5C;\n",
              "      box-shadow: 0px 1px 3px 1px rgba(0, 0, 0, 0.15);\n",
              "      filter: drop-shadow(0px 1px 2px rgba(0, 0, 0, 0.3));\n",
              "      fill: #FFFFFF;\n",
              "    }\n",
              "  </style>\n",
              "\n",
              "    <script>\n",
              "      const buttonEl =\n",
              "        document.querySelector('#df-0cb3447e-f52b-448a-95c4-f0e897fed7f8 button.colab-df-convert');\n",
              "      buttonEl.style.display =\n",
              "        google.colab.kernel.accessAllowed ? 'block' : 'none';\n",
              "\n",
              "      async function convertToInteractive(key) {\n",
              "        const element = document.querySelector('#df-0cb3447e-f52b-448a-95c4-f0e897fed7f8');\n",
              "        const dataTable =\n",
              "          await google.colab.kernel.invokeFunction('convertToInteractive',\n",
              "                                                    [key], {});\n",
              "        if (!dataTable) return;\n",
              "\n",
              "        const docLinkHtml = 'Like what you see? Visit the ' +\n",
              "          '<a target=\"_blank\" href=https://colab.research.google.com/notebooks/data_table.ipynb>data table notebook</a>'\n",
              "          + ' to learn more about interactive tables.';\n",
              "        element.innerHTML = '';\n",
              "        dataTable['output_type'] = 'display_data';\n",
              "        await google.colab.output.renderOutput(dataTable, element);\n",
              "        const docLink = document.createElement('div');\n",
              "        docLink.innerHTML = docLinkHtml;\n",
              "        element.appendChild(docLink);\n",
              "      }\n",
              "    </script>\n",
              "  </div>\n",
              "\n",
              "\n",
              "<div id=\"df-7dcfd539-5ae1-42b4-a213-95c230c9be39\">\n",
              "  <button class=\"colab-df-quickchart\" onclick=\"quickchart('df-7dcfd539-5ae1-42b4-a213-95c230c9be39')\"\n",
              "            title=\"Suggest charts.\"\n",
              "            style=\"display:none;\">\n",
              "\n",
              "<svg xmlns=\"http://www.w3.org/2000/svg\" height=\"24px\"viewBox=\"0 0 24 24\"\n",
              "     width=\"24px\">\n",
              "    <g>\n",
              "        <path d=\"M19 3H5c-1.1 0-2 .9-2 2v14c0 1.1.9 2 2 2h14c1.1 0 2-.9 2-2V5c0-1.1-.9-2-2-2zM9 17H7v-7h2v7zm4 0h-2V7h2v10zm4 0h-2v-4h2v4z\"/>\n",
              "    </g>\n",
              "</svg>\n",
              "  </button>\n",
              "\n",
              "<style>\n",
              "  .colab-df-quickchart {\n",
              "      --bg-color: #E8F0FE;\n",
              "      --fill-color: #1967D2;\n",
              "      --hover-bg-color: #E2EBFA;\n",
              "      --hover-fill-color: #174EA6;\n",
              "      --disabled-fill-color: #AAA;\n",
              "      --disabled-bg-color: #DDD;\n",
              "  }\n",
              "\n",
              "  [theme=dark] .colab-df-quickchart {\n",
              "      --bg-color: #3B4455;\n",
              "      --fill-color: #D2E3FC;\n",
              "      --hover-bg-color: #434B5C;\n",
              "      --hover-fill-color: #FFFFFF;\n",
              "      --disabled-bg-color: #3B4455;\n",
              "      --disabled-fill-color: #666;\n",
              "  }\n",
              "\n",
              "  .colab-df-quickchart {\n",
              "    background-color: var(--bg-color);\n",
              "    border: none;\n",
              "    border-radius: 50%;\n",
              "    cursor: pointer;\n",
              "    display: none;\n",
              "    fill: var(--fill-color);\n",
              "    height: 32px;\n",
              "    padding: 0;\n",
              "    width: 32px;\n",
              "  }\n",
              "\n",
              "  .colab-df-quickchart:hover {\n",
              "    background-color: var(--hover-bg-color);\n",
              "    box-shadow: 0 1px 2px rgba(60, 64, 67, 0.3), 0 1px 3px 1px rgba(60, 64, 67, 0.15);\n",
              "    fill: var(--button-hover-fill-color);\n",
              "  }\n",
              "\n",
              "  .colab-df-quickchart-complete:disabled,\n",
              "  .colab-df-quickchart-complete:disabled:hover {\n",
              "    background-color: var(--disabled-bg-color);\n",
              "    fill: var(--disabled-fill-color);\n",
              "    box-shadow: none;\n",
              "  }\n",
              "\n",
              "  .colab-df-spinner {\n",
              "    border: 2px solid var(--fill-color);\n",
              "    border-color: transparent;\n",
              "    border-bottom-color: var(--fill-color);\n",
              "    animation:\n",
              "      spin 1s steps(1) infinite;\n",
              "  }\n",
              "\n",
              "  @keyframes spin {\n",
              "    0% {\n",
              "      border-color: transparent;\n",
              "      border-bottom-color: var(--fill-color);\n",
              "      border-left-color: var(--fill-color);\n",
              "    }\n",
              "    20% {\n",
              "      border-color: transparent;\n",
              "      border-left-color: var(--fill-color);\n",
              "      border-top-color: var(--fill-color);\n",
              "    }\n",
              "    30% {\n",
              "      border-color: transparent;\n",
              "      border-left-color: var(--fill-color);\n",
              "      border-top-color: var(--fill-color);\n",
              "      border-right-color: var(--fill-color);\n",
              "    }\n",
              "    40% {\n",
              "      border-color: transparent;\n",
              "      border-right-color: var(--fill-color);\n",
              "      border-top-color: var(--fill-color);\n",
              "    }\n",
              "    60% {\n",
              "      border-color: transparent;\n",
              "      border-right-color: var(--fill-color);\n",
              "    }\n",
              "    80% {\n",
              "      border-color: transparent;\n",
              "      border-right-color: var(--fill-color);\n",
              "      border-bottom-color: var(--fill-color);\n",
              "    }\n",
              "    90% {\n",
              "      border-color: transparent;\n",
              "      border-bottom-color: var(--fill-color);\n",
              "    }\n",
              "  }\n",
              "</style>\n",
              "\n",
              "  <script>\n",
              "    async function quickchart(key) {\n",
              "      const quickchartButtonEl =\n",
              "        document.querySelector('#' + key + ' button');\n",
              "      quickchartButtonEl.disabled = true;  // To prevent multiple clicks.\n",
              "      quickchartButtonEl.classList.add('colab-df-spinner');\n",
              "      try {\n",
              "        const charts = await google.colab.kernel.invokeFunction(\n",
              "            'suggestCharts', [key], {});\n",
              "      } catch (error) {\n",
              "        console.error('Error during call to suggestCharts:', error);\n",
              "      }\n",
              "      quickchartButtonEl.classList.remove('colab-df-spinner');\n",
              "      quickchartButtonEl.classList.add('colab-df-quickchart-complete');\n",
              "    }\n",
              "    (() => {\n",
              "      let quickchartButtonEl =\n",
              "        document.querySelector('#df-7dcfd539-5ae1-42b4-a213-95c230c9be39 button');\n",
              "      quickchartButtonEl.style.display =\n",
              "        google.colab.kernel.accessAllowed ? 'block' : 'none';\n",
              "    })();\n",
              "  </script>\n",
              "</div>\n",
              "    </div>\n",
              "  </div>\n"
            ],
            "text/plain": [
              "       class                                          datapoint\n",
              "0  Household  Paper Plane Design Framed Wall Hanging Motivat...\n",
              "1  Household  SAF 'Floral' Framed Painting (Wood, 30 inch x ...\n",
              "2  Household  SAF 'UV Textured Modern Art Print Framed' Pain...\n",
              "3  Household  SAF Flower Print Framed Painting (Synthetic, 1...\n",
              "4  Household  Incredible Gifts India Wooden Happy Birthday U..."
            ]
          },
          "execution_count": 28,
          "metadata": {},
          "output_type": "execute_result"
        }
      ],
      "source": [
        "data.head()"
      ]
    },
    {
      "cell_type": "markdown",
      "metadata": {
        "id": "z2xK7PZRPXBW"
      },
      "source": [
        "**Step 2: Data Cleaning and Transformation**"
      ]
    },
    {
      "cell_type": "code",
      "execution_count": null,
      "metadata": {
        "colab": {
          "base_uri": "https://localhost:8080/"
        },
        "id": "qA8EzrcUPXd9",
        "outputId": "27edc2a6-b9c9-46f7-82cd-ded9617dfc96"
      },
      "outputs": [
        {
          "name": "stdout",
          "output_type": "stream",
          "text": [
            "Missing values:\n",
            "class        0\n",
            "datapoint    1\n",
            "dtype: int64\n",
            "Class distribution:\n",
            "Household                 19313\n",
            "Books                     11820\n",
            "Electronics               10621\n",
            "Clothing & Accessories     8670\n",
            "Name: class, dtype: int64\n"
          ]
        }
      ],
      "source": [
        "# Check for missing values\n",
        "print(\"Missing values:\")\n",
        "print(data.isnull().sum())\n",
        "\n",
        "# Remove rows with missing values\n",
        "data.dropna(inplace=True)\n",
        "\n",
        "# Check the distribution of classes\n",
        "class_counts = data['class'].value_counts()\n",
        "print(\"Class distribution:\")\n",
        "print(class_counts)"
      ]
    },
    {
      "cell_type": "markdown",
      "metadata": {
        "id": "PLC1vwIVP67m"
      },
      "source": [
        "**Step 3: Text Preprocessing**"
      ]
    },
    {
      "cell_type": "code",
      "execution_count": null,
      "metadata": {
        "colab": {
          "base_uri": "https://localhost:8080/"
        },
        "id": "m915yY6aW8Lf",
        "outputId": "f6ed9172-f41f-421b-f46c-0498b8e7f979"
      },
      "outputs": [
        {
          "name": "stderr",
          "output_type": "stream",
          "text": [
            "[nltk_data] Downloading package punkt to /root/nltk_data...\n",
            "[nltk_data]   Package punkt is already up-to-date!\n"
          ]
        },
        {
          "data": {
            "text/plain": [
              "True"
            ]
          },
          "execution_count": 30,
          "metadata": {},
          "output_type": "execute_result"
        }
      ],
      "source": [
        "import nltk\n",
        "nltk.download('punkt')\n"
      ]
    },
    {
      "cell_type": "code",
      "execution_count": null,
      "metadata": {
        "colab": {
          "base_uri": "https://localhost:8080/"
        },
        "id": "VPzJPuObXANP",
        "outputId": "d9b8a896-6062-413c-d39c-146aee2a05b8"
      },
      "outputs": [
        {
          "name": "stderr",
          "output_type": "stream",
          "text": [
            "[nltk_data] Downloading package stopwords to /root/nltk_data...\n",
            "[nltk_data]   Package stopwords is already up-to-date!\n"
          ]
        },
        {
          "data": {
            "text/plain": [
              "True"
            ]
          },
          "execution_count": 31,
          "metadata": {},
          "output_type": "execute_result"
        }
      ],
      "source": [
        "import nltk\n",
        "nltk.download('stopwords')"
      ]
    },
    {
      "cell_type": "code",
      "execution_count": null,
      "metadata": {
        "id": "X7AV6lqzP3Bk"
      },
      "outputs": [],
      "source": [
        "# Preprocessing function\n",
        "def preprocess_text(text):\n",
        "    text = text.lower()\n",
        "    text = re.sub(f\"[{string.punctuation}]\", \"\", text)\n",
        "    tokens = word_tokenize(text)\n",
        "    stop_words = set(stopwords.words(\"english\"))\n",
        "    filtered_tokens = [word for word in tokens if word not in stop_words]\n",
        "    stemmer = PorterStemmer()\n",
        "    stemmed_tokens = [stemmer.stem(word) for word in filtered_tokens]\n",
        "    processed_text = \" \".join(stemmed_tokens)\n",
        "    return processed_text\n",
        "\n",
        "# Apply preprocessing to the 'datapoint' column\n",
        "data['processed_datapoint'] = data['datapoint'].apply(preprocess_text)"
      ]
    },
    {
      "cell_type": "markdown",
      "metadata": {
        "id": "OhT4JKLiTGMT"
      },
      "source": [
        "**Step 4: Feature Extraction using TF-IDF**"
      ]
    },
    {
      "cell_type": "code",
      "execution_count": null,
      "metadata": {
        "id": "sFWFO5X0TGTi"
      },
      "outputs": [],
      "source": [
        "from sklearn.preprocessing import LabelEncoder\n",
        "\n",
        "# Initialize TF-IDF vectorizer\n",
        "tfidf_vectorizer = TfidfVectorizer(max_features=1000)  # Adjust max_features as needed\n",
        "\n",
        "# Convert text to TF-IDF features\n",
        "X = tfidf_vectorizer.fit_transform(data['processed_datapoint'])\n",
        "\n",
        "# Encode the class labels\n",
        "label_encoder = LabelEncoder()\n",
        "y = label_encoder.fit_transform(data['class'])"
      ]
    },
    {
      "cell_type": "markdown",
      "metadata": {
        "id": "Hik1qBAkUcga"
      },
      "source": [
        "**Step 5: Split Data into Train and Test Sets**"
      ]
    },
    {
      "cell_type": "code",
      "execution_count": null,
      "metadata": {
        "id": "0Wt3AeyxP3Pl"
      },
      "outputs": [],
      "source": [
        "X_train, X_test, y_train, y_test = train_test_split(X, y, test_size=0.2, random_state=42)"
      ]
    },
    {
      "cell_type": "markdown",
      "metadata": {
        "id": "FuQSIjHcUg9i"
      },
      "source": [
        "**Step 6: Initialize Classifiers**"
      ]
    },
    {
      "cell_type": "code",
      "execution_count": null,
      "metadata": {
        "id": "cQZzkh46dt_x"
      },
      "outputs": [],
      "source": [
        "from sklearn.preprocessing import StandardScaler\n",
        "\n",
        "# Initialize StandardScaler with with_mean=False for sparse matrices\n",
        "scaler = StandardScaler(with_mean=False)\n",
        "\n",
        "# Scale the TF-IDF matrix\n",
        "X_train_scaled = scaler.fit_transform(X_train)\n",
        "X_test_scaled = scaler.transform(X_test)\n"
      ]
    },
    {
      "cell_type": "code",
      "execution_count": null,
      "metadata": {
        "id": "RPLRisteP3Sc"
      },
      "outputs": [],
      "source": [
        "classifiers = {\n",
        "    \"Logistic Regression\": LogisticRegression(max_iter=1000),\n",
        "    \"SVM\": SVC(),\n",
        "    \"K Neighbors\": KNeighborsClassifier(),\n",
        "    \"AdaBoost\": AdaBoostClassifier(),\n",
        "    \"Random Forest\": RandomForestClassifier(),\n",
        "    \"Decision Tree\": DecisionTreeClassifier(),\n",
        "    \"XGBoost\": xgb.XGBClassifier(),\n",
        "}"
      ]
    },
    {
      "cell_type": "markdown",
      "metadata": {
        "id": "4ASH60xBUlKJ"
      },
      "source": [
        "**Step 7: Train and Evaluate Classifiers**"
      ]
    },
    {
      "cell_type": "code",
      "execution_count": null,
      "metadata": {
        "id": "eyk4TQOCUnJ6"
      },
      "outputs": [],
      "source": [
        "results = {}\n",
        "for name, clf in classifiers.items():\n",
        "    clf.fit(X_train_scaled, y_train)\n",
        "    y_pred = clf.predict(X_test_scaled)\n",
        "\n",
        "    accuracy = accuracy_score(y_test, y_pred)\n",
        "    results[name] = accuracy"
      ]
    },
    {
      "cell_type": "markdown",
      "metadata": {
        "id": "Er3s21_mUouh"
      },
      "source": [
        "**Step 8: Display Results**"
      ]
    },
    {
      "cell_type": "code",
      "execution_count": null,
      "metadata": {
        "colab": {
          "background_save": true,
          "base_uri": "https://localhost:8080/"
        },
        "id": "KyxNy18uUsD5",
        "outputId": "b8a2a5c4-1745-4e00-f77f-c45e5b952eab"
      },
      "outputs": [
        {
          "name": "stdout",
          "output_type": "stream",
          "text": [
            "Logistic Regression: Accuracy = 0.9378\n",
            "Logistic Regression Classification Report:\n",
            "                        precision    recall  f1-score   support\n",
            "\n",
            "                 Books       0.24      1.00      0.38      2378\n",
            "Clothing & Accessories       1.00      0.00      0.00      1750\n",
            "           Electronics       1.00      0.00      0.00      2082\n",
            "             Household       1.00      0.00      0.00      3875\n",
            "\n",
            "              accuracy                           0.24     10085\n",
            "             macro avg       0.81      0.25      0.10     10085\n",
            "          weighted avg       0.82      0.24      0.09     10085\n",
            "\n",
            "==================================================\n",
            "SVM: Accuracy = 0.9640\n",
            "SVM Classification Report:\n",
            "                        precision    recall  f1-score   support\n",
            "\n",
            "                 Books       0.24      1.00      0.38      2378\n",
            "Clothing & Accessories       1.00      0.00      0.00      1750\n",
            "           Electronics       1.00      0.00      0.00      2082\n",
            "             Household       1.00      0.00      0.00      3875\n",
            "\n",
            "              accuracy                           0.24     10085\n",
            "             macro avg       0.81      0.25      0.10     10085\n",
            "          weighted avg       0.82      0.24      0.09     10085\n",
            "\n",
            "==================================================\n",
            "K Neighbors: Accuracy = 0.8020\n",
            "K Neighbors Classification Report:\n",
            "                        precision    recall  f1-score   support\n",
            "\n",
            "                 Books       0.24      1.00      0.38      2378\n",
            "Clothing & Accessories       1.00      0.00      0.00      1750\n",
            "           Electronics       1.00      0.00      0.00      2082\n",
            "             Household       1.00      0.00      0.00      3875\n",
            "\n",
            "              accuracy                           0.24     10085\n",
            "             macro avg       0.81      0.25      0.10     10085\n",
            "          weighted avg       0.82      0.24      0.09     10085\n",
            "\n",
            "==================================================\n",
            "AdaBoost: Accuracy = 0.8119\n",
            "AdaBoost Classification Report:\n",
            "                        precision    recall  f1-score   support\n",
            "\n",
            "                 Books       0.90      0.44      0.59      2378\n",
            "Clothing & Accessories       0.93      0.06      0.12      1750\n",
            "           Electronics       0.93      0.26      0.40      2082\n",
            "             Household       0.46      0.98      0.63      3875\n",
            "\n",
            "              accuracy                           0.54     10085\n",
            "             macro avg       0.81      0.44      0.43     10085\n",
            "          weighted avg       0.74      0.54      0.48     10085\n",
            "\n",
            "==================================================\n",
            "Random Forest: Accuracy = 0.9683\n",
            "Random Forest Classification Report:\n",
            "                        precision    recall  f1-score   support\n",
            "\n",
            "                 Books       0.25      1.00      0.40      2378\n",
            "Clothing & Accessories       0.95      0.04      0.08      1750\n",
            "           Electronics       0.91      0.07      0.13      2082\n",
            "             Household       0.89      0.09      0.17      3875\n",
            "\n",
            "              accuracy                           0.29     10085\n",
            "             macro avg       0.75      0.30      0.19     10085\n",
            "          weighted avg       0.75      0.29      0.20     10085\n",
            "\n",
            "==================================================\n",
            "Decision Tree: Accuracy = 0.9447\n",
            "Decision Tree Classification Report:\n",
            "                        precision    recall  f1-score   support\n",
            "\n",
            "                 Books       0.28      0.99      0.44      2378\n",
            "Clothing & Accessories       0.87      0.19      0.31      1750\n",
            "           Electronics       0.88      0.24      0.37      2082\n",
            "             Household       0.81      0.18      0.29      3875\n",
            "\n",
            "              accuracy                           0.38     10085\n",
            "             macro avg       0.71      0.40      0.35     10085\n",
            "          weighted avg       0.71      0.38      0.35     10085\n",
            "\n",
            "==================================================\n",
            "XGBoost: Accuracy = 0.9554\n",
            "XGBoost Classification Report:\n",
            "                        precision    recall  f1-score   support\n",
            "\n",
            "                 Books       0.52      0.96      0.67      2378\n",
            "Clothing & Accessories       0.95      0.05      0.09      1750\n",
            "           Electronics       0.93      0.54      0.68      2082\n",
            "             Household       0.69      0.79      0.74      3875\n",
            "\n",
            "              accuracy                           0.65     10085\n",
            "             macro avg       0.77      0.58      0.55     10085\n",
            "          weighted avg       0.75      0.65      0.60     10085\n",
            "\n",
            "==================================================\n"
          ]
        }
      ],
      "source": [
        "# Display results\n",
        "for name, accuracy in results.items():\n",
        "    print(f\"{name}: Accuracy = {accuracy:.4f}\")\n",
        "    print(f\"{name} Classification Report:\")\n",
        "    predictions = classifiers[name].predict(X_test)\n",
        "    print(classification_report(y_test, predictions, target_names=label_encoder.classes_, zero_division=1))\n",
        "    print(\"=\" * 50)"
      ]
    },
    {
      "cell_type": "code",
      "source": [
        "X_train"
      ],
      "metadata": {
        "colab": {
          "base_uri": "https://localhost:8080/"
        },
        "id": "2YS1wol4FwpE",
        "outputId": "79a902d8-382d-40d2-b683-f0d1be8b6e3e"
      },
      "execution_count": 44,
      "outputs": [
        {
          "output_type": "execute_result",
          "data": {
            "text/plain": [
              "<40339x1000 sparse matrix of type '<class 'numpy.float64'>'\n",
              "\twith 1219501 stored elements in Compressed Sparse Row format>"
            ]
          },
          "metadata": {},
          "execution_count": 44
        }
      ]
    },
    {
      "cell_type": "code",
      "source": [
        "X_test"
      ],
      "metadata": {
        "colab": {
          "base_uri": "https://localhost:8080/"
        },
        "id": "eYSwlhp4Fwt7",
        "outputId": "5567791d-c9ae-4081-e097-c73804f6ed3d"
      },
      "execution_count": 45,
      "outputs": [
        {
          "output_type": "execute_result",
          "data": {
            "text/plain": [
              "<10085x1000 sparse matrix of type '<class 'numpy.float64'>'\n",
              "\twith 305363 stored elements in Compressed Sparse Row format>"
            ]
          },
          "metadata": {},
          "execution_count": 45
        }
      ]
    },
    {
      "cell_type": "markdown",
      "metadata": {
        "id": "w4lSZtMUrrIo"
      },
      "source": [
        "**ANN**"
      ]
    },
    {
      "cell_type": "code",
      "execution_count": 49,
      "metadata": {
        "colab": {
          "base_uri": "https://localhost:8080/"
        },
        "id": "wXHeDplWrrPJ",
        "outputId": "ad76a080-cede-4559-94f1-13c4f2c1710d"
      },
      "outputs": [
        {
          "output_type": "stream",
          "name": "stdout",
          "text": [
            "Epoch 1/10\n",
            "1261/1261 [==============================] - 6s 3ms/step - loss: 0.2922 - accuracy: 0.9120\n",
            "Epoch 2/10\n",
            "1261/1261 [==============================] - 4s 3ms/step - loss: 0.1641 - accuracy: 0.9529\n",
            "Epoch 3/10\n",
            "1261/1261 [==============================] - 3s 3ms/step - loss: 0.1364 - accuracy: 0.9608\n",
            "Epoch 4/10\n",
            "1261/1261 [==============================] - 3s 3ms/step - loss: 0.1122 - accuracy: 0.9686\n",
            "Epoch 5/10\n",
            "1261/1261 [==============================] - 4s 3ms/step - loss: 0.0893 - accuracy: 0.9753\n",
            "Epoch 6/10\n",
            "1261/1261 [==============================] - 4s 3ms/step - loss: 0.0683 - accuracy: 0.9809\n",
            "Epoch 7/10\n",
            "1261/1261 [==============================] - 3s 3ms/step - loss: 0.0517 - accuracy: 0.9860\n",
            "Epoch 8/10\n",
            "1261/1261 [==============================] - 3s 3ms/step - loss: 0.0387 - accuracy: 0.9888\n",
            "Epoch 9/10\n",
            "1261/1261 [==============================] - 4s 3ms/step - loss: 0.0307 - accuracy: 0.9915\n",
            "Epoch 10/10\n",
            "1261/1261 [==============================] - 3s 3ms/step - loss: 0.0255 - accuracy: 0.9926\n",
            "316/316 [==============================] - 1s 1ms/step\n"
          ]
        }
      ],
      "source": [
        "from keras.models import Sequential\n",
        "from keras.layers import Dense\n",
        "\n",
        "# Convert sparse matrices to dense NumPy arrays\n",
        "X_train = X_train.toarray()\n",
        "X_test = X_test.toarray()\n",
        "\n",
        "# Build the ANN model\n",
        "model = Sequential([\n",
        "    Dense(64, activation='relu', input_dim=X_train.shape[1]),\n",
        "    Dense(32, activation='relu'),\n",
        "    Dense(len(label_encoder.classes_), activation='softmax')\n",
        "])\n",
        "\n",
        "# Compile the model\n",
        "model.compile(optimizer='adam', loss='sparse_categorical_crossentropy', metrics=['accuracy'])\n",
        "\n",
        "# Train the model\n",
        "model.fit(X_train, y_train, epochs=10, batch_size=32, verbose=1)\n",
        "\n",
        "# Predict using the trained model\n",
        "y_pred_prob = model.predict(X_test)\n",
        "y_pred = np.argmax(y_pred_prob, axis=1)"
      ]
    },
    {
      "cell_type": "code",
      "execution_count": 50,
      "metadata": {
        "colab": {
          "base_uri": "https://localhost:8080/"
        },
        "id": "IjFejhY35ouF",
        "outputId": "a5d317ef-7b7c-484d-9deb-32356251d473"
      },
      "outputs": [
        {
          "output_type": "stream",
          "name": "stdout",
          "text": [
            "ANN Accuracy: 0.9681\n",
            "ANN Classification Report:\n",
            "                        precision    recall  f1-score   support\n",
            "\n",
            "                 Books       0.97      0.96      0.97      2378\n",
            "Clothing & Accessories       0.97      0.98      0.98      1750\n",
            "           Electronics       0.96      0.96      0.96      2082\n",
            "             Household       0.97      0.97      0.97      3875\n",
            "\n",
            "              accuracy                           0.97     10085\n",
            "             macro avg       0.97      0.97      0.97     10085\n",
            "          weighted avg       0.97      0.97      0.97     10085\n",
            "\n"
          ]
        }
      ],
      "source": [
        "# Calculate accuracy\n",
        "accuracy = accuracy_score(y_test, y_pred)\n",
        "print(f\"ANN Accuracy: {accuracy:.4f}\")\n",
        "\n",
        "# Generate classification report\n",
        "print(\"ANN Classification Report:\")\n",
        "print(classification_report(y_test, y_pred, target_names=label_encoder.classes_, zero_division=1))\n"
      ]
    },
    {
      "cell_type": "markdown",
      "metadata": {
        "id": "UyG8lh5kAKoX"
      },
      "source": [
        "**Visualization**"
      ]
    },
    {
      "cell_type": "code",
      "execution_count": 55,
      "metadata": {
        "colab": {
          "base_uri": "https://localhost:8080/",
          "height": 635
        },
        "id": "Dhuv8Hd7AKyG",
        "outputId": "db6c64b0-a718-4c3d-f7d3-008ea0a1bf27"
      },
      "outputs": [
        {
          "output_type": "display_data",
          "data": {
            "text/plain": [
              "<Figure size 1000x600 with 1 Axes>"
            ],
            "image/png": "[encoded data removed]"
          },
          "metadata": {}
        }
      ],
      "source": [
        "import matplotlib.pyplot as plt\n",
        "\n",
        "# Define the classifiers and their respective accuracies\n",
        "classifiers = [\n",
        "    \"Logistic Regression\", \"SVM\", \"K Neighbors\", \"AdaBoost\",\n",
        "    \"Random Forest\", \"Decision Tree\", \"XGBoost\", \"ANN\"\n",
        "]\n",
        "accuracies = [0.9378,0.9640,0.8020,0.8119,0.9683,0.9447,0.9554,0.9681]\n",
        "\n",
        "# Find the index of the best accuracy\n",
        "best_index = accuracies.index(max(accuracies))\n",
        "\n",
        "# Create a list of colors, with the best classifier in a different color\n",
        "colors = ['skyblue'] * len(classifiers)\n",
        "colors[best_index] = 'lightcoral'\n",
        "\n",
        "# Create a vertical bar plot\n",
        "plt.figure(figsize=(10, 6))\n",
        "bars = plt.bar(classifiers, accuracies, color=colors)\n",
        "\n",
        "# Annotate the best classifier with an arrow\n",
        "plt.annotate(f'Best: {accuracies[best_index]:.4f}', xy=(best_index, accuracies[best_index]), xytext=(best_index, accuracies[best_index] + 0.02),\n",
        "             arrowprops=dict(facecolor='black', shrink=0.05))\n",
        "\n",
        "plt.ylabel('Accuracy')\n",
        "plt.title('Classifier Performance')\n",
        "plt.ylim(0.7, 1.0)  # Adjusted limits to better fit the accuracy range\n",
        "plt.xticks(rotation=45)  # Rotate the x-axis labels for better readability\n",
        "plt.grid(axis='y', linestyle='--', alpha=0.6)\n",
        "\n",
        "plt.show()\n"
      ]
    }
  ],
  "metadata": {
    "colab": {
      "provenance": []
    },
    "kernelspec": {
      "display_name": "Python 3",
      "name": "python3"
    },
    "language_info": {
      "name": "python"
    }
  },
  "nbformat": 4,
  "nbformat_minor": 0
}